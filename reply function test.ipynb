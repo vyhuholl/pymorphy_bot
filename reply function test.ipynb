{
 "cells": [
  {
   "cell_type": "code",
   "execution_count": 26,
   "metadata": {},
   "outputs": [],
   "source": [
    "from pymorphy2 import MorphAnalyzer\n",
    "import random\n",
    "\n",
    "pos_files_dict = {'ADJF': 'adjs.txt', 'ADJS': 'adjs.txt', 'COMP': 'adjs.txt', 'VERB': 'verbs.txt',  'INFN': 'verbs.txt',  'VERB': 'verbs.txt', 'PRTF': 'verbs.txt', 'PRTS': 'verbs.txt', 'GRND': 'verbs.txt', 'ADVB': 'advs.txt', 'PRCL': 'partcls.txt', 'INTJ': 'intjs.txt'}\n",
    "genders_dict = {'masc': 'nounsm.txt', 'femn': 'nounsf.txt', 'neut': 'nounsn.txt'}\n",
    "morph = MorphAnalyzer()\n",
    "\n",
    "def send(message):\n",
    "    reply = ''\n",
    "    for word in message.split(' '):\n",
    "        ana = morph.parse(word.strip('.,:;?!()\"\"'''))[0]\n",
    "        if ana.tag.POS in pos_files_dict and ana.tag.POS not in ['NOUN', 'NPRO']:\n",
    "            file = pos_files_dict[ana.tag.POS]\n",
    "            words = (open(file, 'r').read()).split(' ')\n",
    "            word_replace = random.choice(words)\n",
    "            grammemes = set()\n",
    "            grammemes.add(ana.tag.case)\n",
    "            grammemes.add(ana.tag.gender)\n",
    "            grammemes.add(ana.tag.mood)\n",
    "            grammemes.add(ana.tag.number)\n",
    "            grammemes.add(ana.tag.person)\n",
    "            grammemes.add(ana.tag.tense)\n",
    "            grammemes.add(ana.tag.voice)\n",
    "            grammemes.remove(None)\n",
    "            word_replace = ((morph.parse(word_replace)[0]).inflect(grammemes)).word\n",
    "        elif ana.tag.POS in ['NOUN', 'NPRO'] and ana.tag.gender != None:\n",
    "            file = genders_dict[ana.tag.gender]\n",
    "            words = (open(file, 'r').read()).split(' ')\n",
    "            word_replace = random.choice(words)\n",
    "            grammemes = set()\n",
    "            grammemes.add(ana.tag.case)\n",
    "            grammemes.add(ana.tag.mood)\n",
    "            grammemes.add(ana.tag.number)\n",
    "            grammemes.add(ana.tag.person)\n",
    "            grammemes.add(ana.tag.tense)\n",
    "            grammemes.add(ana.tag.voice)\n",
    "            grammemes.remove(None)\n",
    "            word_replace = ((morph.parse(word_replace)[0]).inflect(grammemes)).word\n",
    "        else:\n",
    "            word_replace = word.strip('.,:;?!()\"\"''')\n",
    "        reply = reply + word_replace + ' '\n",
    "    return reply           "
   ]
  },
  {
   "cell_type": "code",
   "execution_count": 29,
   "metadata": {},
   "outputs": [
    {
     "name": "stdout",
     "output_type": "stream",
     "text": [
      "перевозка укладывается дерзкую баукину \n"
     ]
    }
   ],
   "source": [
    "print(send('Анна ест вкусную кашу'))"
   ]
  },
  {
   "cell_type": "code",
   "execution_count": null,
   "metadata": {
    "collapsed": true
   },
   "outputs": [],
   "source": []
  }
 ],
 "metadata": {
  "kernelspec": {
   "display_name": "Python 3",
   "language": "python",
   "name": "python3"
  },
  "language_info": {
   "codemirror_mode": {
    "name": "ipython",
    "version": 3
   },
   "file_extension": ".py",
   "mimetype": "text/x-python",
   "name": "python",
   "nbconvert_exporter": "python",
   "pygments_lexer": "ipython3",
   "version": "3.6.3"
  }
 },
 "nbformat": 4,
 "nbformat_minor": 2
}
