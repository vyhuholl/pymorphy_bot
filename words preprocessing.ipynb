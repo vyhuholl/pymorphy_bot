{
 "cells": [
  {
   "cell_type": "code",
   "execution_count": 10,
   "metadata": {
    "collapsed": true
   },
   "outputs": [],
   "source": [
    "from pymorphy2 import MorphAnalyzer"
   ]
  },
  {
   "cell_type": "code",
   "execution_count": null,
   "metadata": {},
   "outputs": [],
   "source": [
    "morph = MorphAnalyzer()\n",
    "nouns = (open('nouns.txt', 'r').read()).split(' ')\n",
    "nounsm = open('nounsm.txt', 'w')\n",
    "nounsf = open('nounsf.txt', 'w')\n",
    "nounsn = open('nounsn.txt', 'w')\n",
    "glist = {'masc': nounsm, 'femn': nounsf, 'neut': nounsn}\n",
    "for noun in nouns:\n",
    "    gender = (morph.parse(noun)[0]).tag.gender\n",
    "    if gender != None:\n",
    "        (glist[gender]).write(noun + ' ') \n",
    "nounsm.close()\n",
    "nounsf.close()\n",
    "nounsn.close()"
   ]
  },
  {
   "cell_type": "code",
   "execution_count": null,
   "metadata": {
    "collapsed": true
   },
   "outputs": [],
   "source": []
  }
 ],
 "metadata": {
  "kernelspec": {
   "display_name": "Python 3",
   "language": "python",
   "name": "python3"
  },
  "language_info": {
   "codemirror_mode": {
    "name": "ipython",
    "version": 3
   },
   "file_extension": ".py",
   "mimetype": "text/x-python",
   "name": "python",
   "nbconvert_exporter": "python",
   "pygments_lexer": "ipython3",
   "version": "3.6.3"
  }
 },
 "nbformat": 4,
 "nbformat_minor": 2
}
